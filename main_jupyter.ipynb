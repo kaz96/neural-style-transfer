{
 "cells": [
  {
   "cell_type": "code",
   "execution_count": 1,
   "id": "e92e01f2",
   "metadata": {},
   "outputs": [],
   "source": [
    "import tensorflow_hub as hub\n",
    "import tensorflow as tf\n",
    "import PIL\n",
    "import PIL.Image\n",
    "import numpy as np\n",
    "import matplotlib.pyplot as plt"
   ]
  },
  {
   "cell_type": "code",
   "execution_count": 2,
   "id": "e8645a5c",
   "metadata": {},
   "outputs": [],
   "source": [
    "hub_model = hub.load('https://tfhub.dev/google/magenta/arbitrary-image-stylization-v1-256/2')\n"
   ]
  },
  {
   "cell_type": "code",
   "execution_count": 7,
   "id": "b71dc512",
   "metadata": {},
   "outputs": [],
   "source": [
    "house=PIL.Image.open(\"me.jpg\")\n",
    "starry=PIL.Image.open(\"cubism2.jpg\")\n",
    "\n"
   ]
  },
  {
   "cell_type": "code",
   "execution_count": 4,
   "id": "b0f9255c",
   "metadata": {},
   "outputs": [],
   "source": [
    "def load_img(path_to_img):\n",
    "    max_dim = 512\n",
    "    img = tf.io.read_file(path_to_img)\n",
    "    img = tf.image.decode_image(img, channels=3) # 0-255\n",
    "    img = tf.image.convert_image_dtype(img, tf.float32) # 0-1\n",
    "\n",
    "    shape = tf.cast(tf.shape(img)[:-1], tf.float32)\n",
    "    long_dim = max(shape)\n",
    "    scale = max_dim / long_dim\n",
    "\n",
    "    new_shape = tf.cast(shape * scale, tf.int32)\n",
    "\n",
    "    img = tf.image.resize(img, new_shape)\n",
    "    img = img[tf.newaxis, :]\n",
    "    return img"
   ]
  },
  {
   "cell_type": "code",
   "execution_count": 5,
   "id": "65350e03",
   "metadata": {},
   "outputs": [],
   "source": [
    "def load_img1(img):\n",
    "    max_dim = 512\n",
    "# img = tf.io.read_file(\"house.jpg\")\n",
    "# img = tf.image.decode_image(img, channels=3)\n",
    "\n",
    "    \n",
    "    img = tf.image.convert_image_dtype(img, tf.float32)\n",
    "\n",
    "\n",
    "    shape = tf.cast(tf.shape(img)[:-1], tf.float32)\n",
    "    long_dim = max(shape)\n",
    "    scale = max_dim / long_dim\n",
    "\n",
    "    new_shape = tf.cast(shape * scale, tf.int32)\n",
    "\n",
    "    img = tf.image.resize(img, new_shape)\n",
    "    img = img[tf.newaxis, :]\n",
    "    return img"
   ]
  },
  {
   "cell_type": "code",
   "execution_count": null,
   "id": "574a7944",
   "metadata": {},
   "outputs": [],
   "source": [
    "\n"
   ]
  },
  {
   "cell_type": "code",
   "execution_count": 6,
   "id": "62be8d19",
   "metadata": {},
   "outputs": [
    {
     "name": "stdout",
     "output_type": "stream",
     "text": [
      "tf.Tensor(\n",
      "[[[[0.43137258 0.49411768 0.62352943]\n",
      "   [0.43137258 0.49411768 0.62352943]\n",
      "   [0.43137258 0.49411768 0.62352943]\n",
      "   ...\n",
      "   [0.41960788 0.48235297 0.6117647 ]\n",
      "   [0.41960788 0.48235297 0.6117647 ]\n",
      "   [0.41960788 0.48235297 0.6117647 ]]\n",
      "\n",
      "  [[0.43226758 0.49501267 0.6244244 ]\n",
      "   [0.43226758 0.49501267 0.6244244 ]\n",
      "   [0.43226758 0.49501267 0.6244244 ]\n",
      "   ...\n",
      "   [0.42352945 0.48627454 0.6156863 ]\n",
      "   [0.42352945 0.48627454 0.6156863 ]\n",
      "   [0.42352945 0.48627454 0.6156863 ]]\n",
      "\n",
      "  [[0.43547863 0.49822372 0.6276355 ]\n",
      "   [0.43547863 0.49822372 0.6276355 ]\n",
      "   [0.43547863 0.49822372 0.6276355 ]\n",
      "   ...\n",
      "   [0.427451   0.4901961  0.61960787]\n",
      "   [0.427451   0.4901961  0.61960787]\n",
      "   [0.427451   0.4901961  0.61960787]]\n",
      "\n",
      "  ...\n",
      "\n",
      "  [[0.59197235 0.6076586  0.6507959 ]\n",
      "   [0.5834329  0.5991192  0.64225644]\n",
      "   [0.5802001  0.59588635 0.6390236 ]\n",
      "   ...\n",
      "   [0.25084326 0.21947071 0.07437266]\n",
      "   [0.25247547 0.22110294 0.06844793]\n",
      "   [0.27776855 0.22678816 0.09345482]]\n",
      "\n",
      "  [[0.5836079  0.5992942  0.64243144]\n",
      "   [0.5741379  0.5898242  0.63296145]\n",
      "   [0.5767923  0.5924786  0.6356158 ]\n",
      "   ...\n",
      "   [0.29843783 0.2670653  0.12196725]\n",
      "   [0.23613496 0.20476241 0.05182122]\n",
      "   [0.25206444 0.20108405 0.06651522]]\n",
      "\n",
      "  [[0.59287685 0.6085631  0.6517004 ]\n",
      "   [0.5777497  0.593436   0.63657326]\n",
      "   [0.5647059  0.5803922  0.62352943]\n",
      "   ...\n",
      "   [0.25586703 0.2244945  0.07939645]\n",
      "   [0.22921264 0.1978401  0.0448989 ]\n",
      "   [0.24512199 0.1941416  0.05688668]]]], shape=(1, 287, 512, 3), dtype=float32)\n"
     ]
    }
   ],
   "source": [
    "import cv2\n",
    "cap = cv2.VideoCapture(0)\n",
    "\n",
    "cap.set(3,640)\n",
    "cap.set(4,480)\n",
    "\n",
    "\n",
    "style = tf.constant(load_img(\"house.jpg\"))\n",
    "print(style)\n",
    "preprocess_styel = starry\n",
    "\n",
    "while True:\n",
    "    break\n",
    "    sucess,img = cap.read() #255 black    \n",
    "    preprocess_img = load_img1(img) # 1 black\n",
    "\n",
    "    stylized_image = hub_model(preprocess_img, style)[0]\n",
    "    cv2.imshow(\"1\",img)\n",
    "    cv2.imshow(\"\",cv2.cvtColor(stylized_image[0].numpy(), cv2.COLOR_BGR2RGB))\n",
    "    if cv2.waitKey(1) == ord('1'):\n",
    "        print(\"Cubism\")\n",
    "        style = tf.constant(load_img(\"cubism2.jpg\"))\n",
    "    if cv2.waitKey(1) == ord('2'):\n",
    "        print(\"Starry Night\")\n",
    "        style = tf.constant(load_img(\"starry.jpg\"))\n",
    "    if cv2.waitKey(1) == ord('3'):\n",
    "        print(\"Fire\")\n",
    "        style = tf.constant(load_img(\"fire.jpg\"))\n",
    "        \n",
    "        \n",
    "        \n",
    "        \n",
    "    if cv2.waitKey(1) and 0xff == ord(\"w\"):\n",
    "        break"
   ]
  },
  {
   "cell_type": "code",
   "execution_count": null,
   "id": "e09bc145",
   "metadata": {},
   "outputs": [],
   "source": []
  },
  {
   "cell_type": "code",
   "execution_count": null,
   "id": "daf272b2",
   "metadata": {},
   "outputs": [],
   "source": []
  }
 ],
 "metadata": {
  "kernelspec": {
   "display_name": "Python 3 (ipykernel)",
   "language": "python",
   "name": "python3"
  },
  "language_info": {
   "codemirror_mode": {
    "name": "ipython",
    "version": 3
   },
   "file_extension": ".py",
   "mimetype": "text/x-python",
   "name": "python",
   "nbconvert_exporter": "python",
   "pygments_lexer": "ipython3",
   "version": "3.9.7"
  }
 },
 "nbformat": 4,
 "nbformat_minor": 5
}
